{
 "cells": [
  {
   "cell_type": "markdown",
   "id": "8b91f1e3",
   "metadata": {},
   "source": [
    "# RAG Research Papers with LlamaIndex + Ollama + Chroma\n",
    "\n",
    "This notebook demonstrates a complete RAG (Retrieval-Augmented Generation) system for research papers with:\n",
    "\n",
    "- **Local Models**: Ollama for both LLM and embeddings (no API costs)\n",
    "- **Persistent Storage**: Chroma vector database for embeddings\n",
    "- **Query Understanding**: Auto-routing between retrieval and summarization\n",
    "- **Deduplication**: SHA256-based duplicate detection\n",
    "- **Interactive UI**: Streamlit app for easy interaction\n",
    "\n",
    "## Key Features\n",
    "\n",
    "1. **Vector Search**: Semantic search over PDF content\n",
    "2. **Document Summarization**: Tree-based summarization of selected PDFs\n",
    "3. **Duplicate Prevention**: Only indexes new/unique documents\n",
    "4. **Query Intent Detection**: Automatically routes summary vs retrieval queries\n",
    "5. **Persistent Index**: No re-embedding on restart\n"
   ]
  },
  {
   "cell_type": "code",
   "execution_count": null,
   "id": "99307ea8",
   "metadata": {},
   "outputs": [
    {
     "data": {
      "text/plain": [
       "True"
      ]
     },
     "execution_count": 1,
     "metadata": {},
     "output_type": "execute_result"
    }
   ],
   "source": [
    "# Environment setup and imports\n",
    "import os\n",
    "import json\n",
    "import hashlib\n",
    "from typing import Dict, Any, List\n",
    "from dotenv import load_dotenv\n",
    "\n",
    "load_dotenv()\n",
    "\n",
    "# Optional: set proxy variables if needed\n",
    "# os.environ[\"HTTP_PROXY\"] = \"\"\n",
    "# os.environ[\"HTTPS_PROXY\"] = \"\"\n",
    "\n",
    "print(\"✅ Environment configured\")\n"
   ]
  },
  {
   "cell_type": "code",
   "execution_count": null,
   "id": "2f9b2601",
   "metadata": {},
   "outputs": [],
   "source": [
    "# LlamaIndex + Ollama configuration\n",
    "from llama_index.core import Settings, VectorStoreIndex, SimpleDirectoryReader, SummaryIndex\n",
    "from llama_index.llms.ollama import Ollama\n",
    "from llama_index.embeddings.ollama import OllamaEmbedding\n",
    "from llama_index.vector_stores.chroma import ChromaVectorStore\n",
    "from llama_index.core.schema import NodeWithScore\n",
    "import chromadb\n",
    "\n",
    "# Configuration constants\n",
    "PERSIST_DIR = \"./chroma_store\"\n",
    "COLLECTION_NAME = \"papers\"\n",
    "DATA_DIR = \"Data\"\n",
    "MANIFEST_PATH = os.path.join(PERSIST_DIR, \"manifest.json\")\n",
    "\n",
    "# Configure local Ollama models\n",
    "Settings.llm = Ollama(model=\"llama3.1\", request_timeout=120.0)\n",
    "Settings.embed_model = OllamaEmbedding(model_name=\"nomic-embed-text\")\n",
    "\n",
    "print(\"✅ LlamaIndex + Ollama configured\")\n",
    "print(f\"📁 Data directory: {DATA_DIR}\")\n",
    "print(f\"🗄️  Chroma store: {PERSIST_DIR}\")\n"
   ]
  },
  {
   "cell_type": "code",
   "execution_count": 4,
   "id": "f13166ef",
   "metadata": {},
   "outputs": [
    {
     "name": "stderr",
     "output_type": "stream",
     "text": [
      "2025-09-24 12:16:43,838 - WARNING - could not convert string to float: b'0.000-7375328' : FloatObject (b'0.000-7375328') invalid; use 0.0 instead\n",
      "Parsing nodes: 100%|██████████| 1/1 [00:00<00:00, 493.45it/s]\n",
      "2025-09-24 12:16:51,888 - INFO - HTTP Request: POST http://localhost:11434/api/embed \"HTTP/1.1 200 OK\"\n",
      "Generating embeddings: 100%|██████████| 1/1 [00:04<00:00,  4.10s/it]\n"
     ]
    }
   ],
   "source": [
    "# Load PDFs and build index\n",
    "documents = SimpleDirectoryReader(\"Data\").load_data()\n",
    "index = VectorStoreIndex.from_documents(documents[0:1], show_progress=True)\n"
   ]
  },
  {
   "cell_type": "code",
   "execution_count": 9,
   "id": "897ce16c",
   "metadata": {},
   "outputs": [
    {
     "name": "stderr",
     "output_type": "stream",
     "text": [
      "2025-09-24 12:20:26,559 - INFO - HTTP Request: POST http://localhost:11434/api/show \"HTTP/1.1 200 OK\"\n",
      "2025-09-24 12:20:29,238 - INFO - HTTP Request: POST http://localhost:11434/api/embed \"HTTP/1.1 200 OK\"\n",
      "2025-09-24 12:21:17,166 - INFO - HTTP Request: POST http://localhost:11434/api/chat \"HTTP/1.1 200 OK\"\n"
     ]
    },
    {
     "name": "stdout",
     "output_type": "stream",
     "text": [
      "Sure, here's a summary of the key concepts from the context:\n",
      "\n",
      "- Self-preference bias is a significant bias in large language models (LLMs) that overestimates the quality of their own outputs.\n",
      "\n",
      "\n",
      "- Self-preference bias is measured using perplexity, which is the measure of how different a text is from other texts.\n",
      "\n",
      "\n",
      "- GPT-4 exhibits a significant degree of self-preference bias based on perplexity analysis.\n",
      "\n",
      "\n",
      "- The fundamental causes of self-preference bias remain unclear, but perplexity may play a role in this phenomenon.\n",
      "\n",
      "\n",
      "- The paper introduces a novel quantitative metric to measure self-preference bias, which can help to mitigate this bias.\n"
     ]
    }
   ],
   "source": [
    "# Query example\n",
    "query_engine = index.as_query_engine(similarity_top_k=3)\n",
    "response = query_engine.query(\"Summarize the key concepts across these papers.\")\n",
    "print(response)\n"
   ]
  },
  {
   "cell_type": "code",
   "execution_count": 10,
   "id": "0706c041",
   "metadata": {},
   "outputs": [
    {
     "name": "stderr",
     "output_type": "stream",
     "text": [
      "2025-09-24 12:21:45,988 - INFO - HTTP Request: POST http://localhost:11434/api/embed \"HTTP/1.1 200 OK\"\n",
      "2025-09-24 12:22:13,928 - INFO - HTTP Request: POST http://localhost:11434/api/chat \"HTTP/1.1 200 OK\"\n"
     ]
    },
    {
     "name": "stdout",
     "output_type": "stream",
     "text": [
      "The context does not provide information about attention, so I cannot answer this question from the provided context.\n"
     ]
    }
   ],
   "source": [
    "# Optional: chat with sources\n",
    "chat_engine = index.as_chat_engine(chat_mode=\"context\", similarity_top_k=3)\n",
    "chat_response = chat_engine.chat(\"What is attention, and why is it useful in LLMs?\")\n",
    "print(chat_response)\n"
   ]
  },
  {
   "cell_type": "markdown",
   "id": "cd953410",
   "metadata": {},
   "source": [
    "### Persist embeddings to Chroma (disk)\n"
   ]
  },
  {
   "cell_type": "code",
   "execution_count": 3,
   "id": "bcc193db",
   "metadata": {},
   "outputs": [
    {
     "name": "stderr",
     "output_type": "stream",
     "text": [
      "2025-09-24 12:54:59,919 - WARNING - could not convert string to float: b'0.000-7375328' : FloatObject (b'0.000-7375328') invalid; use 0.0 instead\n",
      "2025-09-24 12:55:05,020 - INFO - Anonymized telemetry enabled. See                     https://docs.trychroma.com/telemetry for more information.\n",
      "C:\\Users\\PRATIK\\AppData\\Roaming\\Python\\Python313\\site-packages\\tqdm\\auto.py:21: TqdmWarning: IProgress not found. Please update jupyter and ipywidgets. See https://ipywidgets.readthedocs.io/en/stable/user_install.html\n",
      "  from .autonotebook import tqdm as notebook_tqdm\n",
      "Parsing nodes: 100%|██████████| 1/1 [00:00<00:00, 305.95it/s]\n",
      "Generating embeddings:   0%|          | 0/1 [00:00<?, ?it/s]2025-09-24 12:55:09,973 - INFO - HTTP Request: POST http://localhost:11434/api/embed \"HTTP/1.1 200 OK\"\n",
      "Generating embeddings: 100%|██████████| 1/1 [00:04<00:00,  4.41s/it]\n"
     ]
    }
   ],
   "source": [
    "# Build vector store in Chroma and persist\n",
    "from llama_index.vector_stores.chroma import ChromaVectorStore\n",
    "from llama_index.core.storage.storage_context import StorageContext\n",
    "import chromadb\n",
    "\n",
    "# Load PDFs and build index\n",
    "documents = SimpleDirectoryReader(\"Data\").load_data()\n",
    "\n",
    "PERSIST_DIR = \"./chroma_store\"\n",
    "chroma_client = chromadb.PersistentClient(path=PERSIST_DIR)\n",
    "chroma_collection = chroma_client.get_or_create_collection(\"papers\")\n",
    "\n",
    "vector_store = ChromaVectorStore(chroma_collection=chroma_collection)\n",
    "storage_context = StorageContext.from_defaults(vector_store=vector_store)\n",
    "\n",
    "# Rebuild index with the Chroma vector store\n",
    "index = VectorStoreIndex.from_documents(documents[0:1], storage_context=storage_context, show_progress=True)\n"
   ]
  },
  {
   "cell_type": "markdown",
   "id": "065d5f30",
   "metadata": {},
   "source": [
    "### Reload from Chroma and query (no re-embedding)\n"
   ]
  },
  {
   "cell_type": "code",
   "execution_count": 6,
   "id": "0be78fbd",
   "metadata": {},
   "outputs": [
    {
     "name": "stderr",
     "output_type": "stream",
     "text": [
      "2025-09-24 13:06:58,796 - INFO - HTTP Request: POST http://localhost:11434/api/embed \"HTTP/1.1 200 OK\"\n",
      "2025-09-24 13:08:27,792 - INFO - HTTP Request: POST http://localhost:11434/api/chat \"HTTP/1.1 200 OK\"\n"
     ]
    },
    {
     "name": "stdout",
     "output_type": "stream",
     "text": [
      "The key concepts of the paper are:\n",
      "\n",
      "* **Large language models (LLMs)** are a new type of artificial intelligence that can generate human-quality text.\n",
      "* **Reasoning and planning tasks** are a subset of natural language processing (NLP) tasks that involve using LLMs to solve problems that require abstract reasoning or planning skills.\n",
      "* **Prompt engineering** is a field of NLP that focuses on designing natural language queries that guide LLM responses effectively.\n",
      "* **Safety and controllability** is a major concern when using LLMs, as they can generate harmful or inappropriate content.\n",
      "* **Multi-modality** is a field of NLP that involves training LLMs on diverse data to create models with richer understanding.\n"
     ]
    }
   ],
   "source": [
    "# Re-create index from existing Chroma collection\n",
    "from llama_index.core import VectorStoreIndex\n",
    "\n",
    "# If in a new session, re-initialize chroma_client/collection/vector_store/storage_context as done earlier\n",
    "reload_index = VectorStoreIndex.from_vector_store(vector_store)\n",
    "reload_query_engine = reload_index.as_query_engine(similarity_top_k=3)\n",
    "print(reload_query_engine.query(\"give me the key concepts of the paper.\"))\n"
   ]
  },
  {
   "cell_type": "code",
   "execution_count": null,
   "id": "053f67da",
   "metadata": {},
   "outputs": [],
   "source": []
  },
  {
   "cell_type": "code",
   "execution_count": null,
   "id": "2051d1a9",
   "metadata": {},
   "outputs": [],
   "source": []
  }
 ],
 "metadata": {
  "kernelspec": {
   "display_name": "Python 3",
   "language": "python",
   "name": "python3"
  },
  "language_info": {
   "codemirror_mode": {
    "name": "ipython",
    "version": 3
   },
   "file_extension": ".py",
   "mimetype": "text/x-python",
   "name": "python",
   "nbconvert_exporter": "python",
   "pygments_lexer": "ipython3",
   "version": "3.13.5"
  }
 },
 "nbformat": 4,
 "nbformat_minor": 5
}
